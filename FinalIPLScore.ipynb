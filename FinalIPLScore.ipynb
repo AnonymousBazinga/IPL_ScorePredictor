{
  "nbformat": 4,
  "nbformat_minor": 0,
  "metadata": {
    "colab": {
      "provenance": [],
      "authorship_tag": "ABX9TyPw9WD+GwViSf5hi8iUfKH0",
      "include_colab_link": true
    },
    "kernelspec": {
      "name": "python3",
      "display_name": "Python 3"
    },
    "language_info": {
      "name": "python"
    }
  },
  "cells": [
    {
      "cell_type": "markdown",
      "metadata": {
        "id": "view-in-github",
        "colab_type": "text"
      },
      "source": [
        "<a href=\"https://colab.research.google.com/github/AnonymousBazinga/IPL_ScorePredictor/blob/main/FinalIPLScore.ipynb\" target=\"_parent\"><img src=\"https://colab.research.google.com/assets/colab-badge.svg\" alt=\"Open In Colab\"/></a>"
      ]
    },
    {
      "cell_type": "code",
      "source": [
        "!pip install --quiet streamlit\n",
        "!pip install --upgrade --quiet gradio"
      ],
      "metadata": {
        "id": "5FWZsr9_w4fl"
      },
      "execution_count": 17,
      "outputs": []
    },
    {
      "cell_type": "code",
      "execution_count": 2,
      "metadata": {
        "id": "YgeBuhr2uHkm"
      },
      "outputs": [],
      "source": [
        "import pandas as pd\n",
        "from sklearn.model_selection import train_test_split\n",
        "import tensorflow as tf\n",
        "from math import floor\n",
        "from bs4 import BeautifulSoup\n",
        "import requests\n",
        "import re\n",
        "import streamlit as st\n",
        "import gradio as gr"
      ]
    },
    {
      "cell_type": "code",
      "source": [
        "from google.colab import drive\n",
        "drive.mount('/content/drive')"
      ],
      "metadata": {
        "colab": {
          "base_uri": "https://localhost:8080/"
        },
        "id": "3Slw6Pm0xRGT",
        "outputId": "e1f4fae6-9d38-42f7-cf16-64d80ef506fe"
      },
      "execution_count": 3,
      "outputs": [
        {
          "output_type": "stream",
          "name": "stdout",
          "text": [
            "Mounted at /content/drive\n"
          ]
        }
      ]
    },
    {
      "cell_type": "code",
      "source": [
        "path = '/content/drive/MyDrive/EXTRAS/triale.csv'\n",
        "dataset = pd.read_csv(path)\n",
        "x = dataset.drop(columns = [\"Output\",\"MatchID\",\"StadiumID\"])\n",
        "y = dataset[\"Output\"]\n",
        "x_train, x_test, y_train, y_test = train_test_split(x,y,test_size=0.2)"
      ],
      "metadata": {
        "id": "3iRBhy38xYY6"
      },
      "execution_count": 7,
      "outputs": []
    },
    {
      "cell_type": "code",
      "source": [
        "model = tf.keras.models.Sequential()\n",
        "model.add(tf.keras.layers.Dense(256, input_shape = x_train.shape[1:], activation = 'sigmoid'))\n",
        "model.add(tf.keras.layers.Dense(64, activation = 'relu'))\n",
        "model.add(tf.keras.layers.Dense(256, activation = 'softmax'))\n"
      ],
      "metadata": {
        "id": "U25AJJAhxnWN"
      },
      "execution_count": 8,
      "outputs": []
    },
    {
      "cell_type": "code",
      "source": [
        "model.compile(optimizer='adam',loss='sparse_categorical_crossentropy', metrics = ['accuracy'])\n",
        "model.fit(x_train, y_train, epochs=50)"
      ],
      "metadata": {
        "colab": {
          "base_uri": "https://localhost:8080/"
        },
        "id": "TihjOMtNxucJ",
        "outputId": "c7290a2d-b8f7-48c3-c0dd-e8190031f935"
      },
      "execution_count": 9,
      "outputs": [
        {
          "output_type": "stream",
          "name": "stdout",
          "text": [
            "Epoch 1/50\n",
            "445/445 [==============================] - 2s 3ms/step - loss: 3.8823 - accuracy: 0.0439\n",
            "Epoch 2/50\n",
            "445/445 [==============================] - 1s 3ms/step - loss: 3.5949 - accuracy: 0.0682\n",
            "Epoch 3/50\n",
            "445/445 [==============================] - 2s 3ms/step - loss: 3.4614 - accuracy: 0.0789\n",
            "Epoch 4/50\n",
            "445/445 [==============================] - 1s 3ms/step - loss: 3.4095 - accuracy: 0.0868\n",
            "Epoch 5/50\n",
            "445/445 [==============================] - 1s 3ms/step - loss: 3.3461 - accuracy: 0.0930\n",
            "Epoch 6/50\n",
            "445/445 [==============================] - 1s 3ms/step - loss: 3.2557 - accuracy: 0.1014\n",
            "Epoch 7/50\n",
            "445/445 [==============================] - 1s 3ms/step - loss: 3.1580 - accuracy: 0.1082\n",
            "Epoch 8/50\n",
            "445/445 [==============================] - 1s 2ms/step - loss: 3.0843 - accuracy: 0.1146\n",
            "Epoch 9/50\n",
            "445/445 [==============================] - 1s 3ms/step - loss: 3.0185 - accuracy: 0.1213\n",
            "Epoch 10/50\n",
            "445/445 [==============================] - 2s 4ms/step - loss: 2.9785 - accuracy: 0.1291\n",
            "Epoch 11/50\n",
            "445/445 [==============================] - 2s 4ms/step - loss: 2.9341 - accuracy: 0.1313\n",
            "Epoch 12/50\n",
            "445/445 [==============================] - 1s 3ms/step - loss: 2.9007 - accuracy: 0.1408\n",
            "Epoch 13/50\n",
            "445/445 [==============================] - 1s 3ms/step - loss: 2.8670 - accuracy: 0.1427\n",
            "Epoch 14/50\n",
            "445/445 [==============================] - 2s 4ms/step - loss: 2.8346 - accuracy: 0.1498\n",
            "Epoch 15/50\n",
            "445/445 [==============================] - 2s 4ms/step - loss: 2.8071 - accuracy: 0.1547\n",
            "Epoch 16/50\n",
            "445/445 [==============================] - 1s 3ms/step - loss: 2.7804 - accuracy: 0.1609\n",
            "Epoch 17/50\n",
            "445/445 [==============================] - 3s 8ms/step - loss: 2.7536 - accuracy: 0.1624\n",
            "Epoch 18/50\n",
            "445/445 [==============================] - 1s 3ms/step - loss: 2.7311 - accuracy: 0.1687\n",
            "Epoch 19/50\n",
            "445/445 [==============================] - 1s 3ms/step - loss: 2.7054 - accuracy: 0.1723\n",
            "Epoch 20/50\n",
            "445/445 [==============================] - 1s 2ms/step - loss: 2.6867 - accuracy: 0.1737\n",
            "Epoch 21/50\n",
            "445/445 [==============================] - 1s 2ms/step - loss: 2.6635 - accuracy: 0.1784\n",
            "Epoch 22/50\n",
            "445/445 [==============================] - 1s 2ms/step - loss: 2.6467 - accuracy: 0.1900\n",
            "Epoch 23/50\n",
            "445/445 [==============================] - 1s 2ms/step - loss: 2.6307 - accuracy: 0.1862\n",
            "Epoch 24/50\n",
            "445/445 [==============================] - 1s 2ms/step - loss: 2.6203 - accuracy: 0.1900\n",
            "Epoch 25/50\n",
            "445/445 [==============================] - 1s 2ms/step - loss: 2.6094 - accuracy: 0.1938\n",
            "Epoch 26/50\n",
            "445/445 [==============================] - 1s 2ms/step - loss: 2.5864 - accuracy: 0.2033\n",
            "Epoch 27/50\n",
            "445/445 [==============================] - 1s 2ms/step - loss: 2.5766 - accuracy: 0.2004\n",
            "Epoch 28/50\n",
            "445/445 [==============================] - 1s 2ms/step - loss: 2.5658 - accuracy: 0.2029\n",
            "Epoch 29/50\n",
            "445/445 [==============================] - 1s 2ms/step - loss: 2.5533 - accuracy: 0.2094\n",
            "Epoch 30/50\n",
            "445/445 [==============================] - 2s 5ms/step - loss: 2.5475 - accuracy: 0.2065\n",
            "Epoch 31/50\n",
            "445/445 [==============================] - 2s 5ms/step - loss: 2.5377 - accuracy: 0.2079\n",
            "Epoch 32/50\n",
            "445/445 [==============================] - 2s 4ms/step - loss: 2.5313 - accuracy: 0.2113\n",
            "Epoch 33/50\n",
            "445/445 [==============================] - 2s 4ms/step - loss: 2.5203 - accuracy: 0.2152\n",
            "Epoch 34/50\n",
            "445/445 [==============================] - 1s 3ms/step - loss: 2.5136 - accuracy: 0.2126\n",
            "Epoch 35/50\n",
            "445/445 [==============================] - 1s 2ms/step - loss: 2.5085 - accuracy: 0.2151\n",
            "Epoch 36/50\n",
            "445/445 [==============================] - 1s 2ms/step - loss: 2.5017 - accuracy: 0.2154\n",
            "Epoch 37/50\n",
            "445/445 [==============================] - 1s 2ms/step - loss: 2.4846 - accuracy: 0.2187\n",
            "Epoch 38/50\n",
            "445/445 [==============================] - 1s 2ms/step - loss: 2.4766 - accuracy: 0.2246\n",
            "Epoch 39/50\n",
            "445/445 [==============================] - 1s 2ms/step - loss: 2.4720 - accuracy: 0.2243\n",
            "Epoch 40/50\n",
            "445/445 [==============================] - 1s 2ms/step - loss: 2.4672 - accuracy: 0.2266\n",
            "Epoch 41/50\n",
            "445/445 [==============================] - 1s 2ms/step - loss: 2.4657 - accuracy: 0.2244\n",
            "Epoch 42/50\n",
            "445/445 [==============================] - 1s 3ms/step - loss: 2.4575 - accuracy: 0.2248\n",
            "Epoch 43/50\n",
            "445/445 [==============================] - 1s 2ms/step - loss: 2.4442 - accuracy: 0.2307\n",
            "Epoch 44/50\n",
            "445/445 [==============================] - 1s 3ms/step - loss: 2.4471 - accuracy: 0.2270\n",
            "Epoch 45/50\n",
            "445/445 [==============================] - 2s 4ms/step - loss: 2.4362 - accuracy: 0.2337\n",
            "Epoch 46/50\n",
            "445/445 [==============================] - 2s 4ms/step - loss: 2.4304 - accuracy: 0.2315\n",
            "Epoch 47/50\n",
            "445/445 [==============================] - 1s 3ms/step - loss: 2.4243 - accuracy: 0.2347\n",
            "Epoch 48/50\n",
            "445/445 [==============================] - 2s 4ms/step - loss: 2.4183 - accuracy: 0.2369\n",
            "Epoch 49/50\n",
            "445/445 [==============================] - 1s 3ms/step - loss: 2.4095 - accuracy: 0.2384\n",
            "Epoch 50/50\n",
            "445/445 [==============================] - 1s 3ms/step - loss: 2.4148 - accuracy: 0.2354\n"
          ]
        },
        {
          "output_type": "execute_result",
          "data": {
            "text/plain": [
              "<keras.src.callbacks.History at 0x7c24683d7a00>"
            ]
          },
          "metadata": {},
          "execution_count": 9
        }
      ]
    },
    {
      "cell_type": "code",
      "source": [
        "model.evaluate(x_test,y_test)"
      ],
      "metadata": {
        "colab": {
          "base_uri": "https://localhost:8080/"
        },
        "id": "3IYbO4j_x0pQ",
        "outputId": "6f81a5ee-6302-4724-c43d-eced7d85b4c0"
      },
      "execution_count": 10,
      "outputs": [
        {
          "output_type": "stream",
          "name": "stdout",
          "text": [
            "112/112 [==============================] - 0s 2ms/step - loss: 2.4450 - accuracy: 0.2245\n"
          ]
        },
        {
          "output_type": "execute_result",
          "data": {
            "text/plain": [
              "[2.445012092590332, 0.22453573346138]"
            ]
          },
          "metadata": {},
          "execution_count": 10
        }
      ]
    },
    {
      "cell_type": "code",
      "source": [
        "def stadium_avg(stadium_name):\n",
        "  url = \"https://t20-head-to-head.com/statistics-by-ipl-venue/#\"\n",
        "  page = requests.get(url).text\n",
        "  doc = BeautifulSoup(page,\"html.parser\")\n",
        "\n",
        "  temp = 0\n",
        "  page_text2 = doc.find_all(\"figure\", attrs={'class':'wp-block-table'})\n",
        "  page_text = page_text2[::2]\n",
        "  for i in page_text:\n",
        "    if stadium_name in str(i):\n",
        "      temp = str(i.table.tbody).split('td')[9]\n",
        "\n",
        "  stadium_avg = int(temp[1:4])\n",
        "  return stadium_avg\n",
        "\n",
        "stadium_avg(\"Narendra Modi\")"
      ],
      "metadata": {
        "colab": {
          "base_uri": "https://localhost:8080/"
        },
        "id": "fHNuISgux2Oi",
        "outputId": "05d40b1d-9e62-4174-dd8b-0e651b3ef087"
      },
      "execution_count": 11,
      "outputs": [
        {
          "output_type": "execute_result",
          "data": {
            "text/plain": [
              "169"
            ]
          },
          "metadata": {},
          "execution_count": 11
        }
      ]
    },
    {
      "cell_type": "code",
      "source": [
        "def fn1(stadium_name, hometeam, runs, overs, wickets):\n",
        "  avg_score = stadium_avg(stadium_name)\n",
        "  arr = [[avg_score,hometeam, runs,overs,wickets]]\n",
        "  t1 = model.predict(arr)\n",
        "  a = list(t1[0])\n",
        "  #print(a)\n",
        "  runrate = 0\n",
        "  for i in a:\n",
        "    runrate = runrate+(a.index(i)*i)\n",
        "  out2 = runrate*20\n",
        "  out = floor(out2)\n",
        "  return out//10"
      ],
      "metadata": {
        "id": "jNFng2EgyCaf"
      },
      "execution_count": 18,
      "outputs": []
    },
    {
      "cell_type": "code",
      "source": [
        "runs = int(st.number_input(\"How many runs scored so far?\", min_value=0, max_value=256))\n",
        "overs = float(st.select_slider(\"How many overs done so far?\", options=[str(i)+\".\"+str(j) for i in range(0,20,1) for j in range(0,6,1)]))\n",
        "wickets = int(st.select_slider(\"How many wickets lost far?\", options=[i for i in range(0,11,1)]))\n",
        "hometeam = st.radio(\"Does the batting team have home court advantage?\", (\"Yes\", \"No\"))\n",
        "stadium_name = str(st.text_input(\"Which stadium is the match being played in?\"))\n",
        "stadium_average = str(stadium_avg(stadium_name))\n",
        "if hometeam == \"Yes\":\n",
        "  hometeam = 1\n",
        "else:\n",
        "  hometeam = 0\n",
        "text = fn1(stadium_name, hometeam, runs, overs, wickets)\n",
        "st.write(\"The AI predicted score for this match is\", text)"
      ],
      "metadata": {
        "colab": {
          "base_uri": "https://localhost:8080/"
        },
        "id": "fSGAoWJuyLFL",
        "outputId": "c53ebd84-2a68-4ba2-9809-d27ef85a932f"
      },
      "execution_count": 19,
      "outputs": [
        {
          "output_type": "stream",
          "name": "stdout",
          "text": [
            "1/1 [==============================] - 0s 159ms/step\n"
          ]
        }
      ]
    },
    {
      "cell_type": "code",
      "source": [
        "hometeam = gr.Radio([0,1], label=\"Does the batting team have home court advantage? (0=no,1=yes)\")\n",
        "runs = gr.Number(label=\"How many runs scored? (e.g. 60, 204)\")\n",
        "overs = gr.Number(label=\"How many overs finished? (e.g. 10.2, 3, 12.4)\")\n",
        "wickets = gr.Slider(minimum=0,maximum=10,step=1,label=\"How many wickets are lost?\")\n",
        "out = gr.Number(label=\"The AI predicted score for this innings is: \")\n",
        "demo = gr.Interface(fn1,inputs = ['text',hometeam,runs,overs,wickets],outputs=out,theme='glass')\n",
        "demo.launch(share=True)"
      ],
      "metadata": {
        "colab": {
          "base_uri": "https://localhost:8080/",
          "height": 612
        },
        "id": "mvLDV78gySGe",
        "outputId": "a470e97e-afeb-42a5-a98e-a69577102fce"
      },
      "execution_count": 16,
      "outputs": [
        {
          "output_type": "stream",
          "name": "stdout",
          "text": [
            "Colab notebook detected. To show errors in colab notebook, set debug=True in launch()\n",
            "Running on public URL: https://7c8cd01ed289f7c200.gradio.live\n",
            "\n",
            "This share link expires in 72 hours. For free permanent hosting and GPU upgrades, run `gradio deploy` from Terminal to deploy to Spaces (https://huggingface.co/spaces)\n"
          ]
        },
        {
          "output_type": "display_data",
          "data": {
            "text/plain": [
              "<IPython.core.display.HTML object>"
            ],
            "text/html": [
              "<div><iframe src=\"https://7c8cd01ed289f7c200.gradio.live\" width=\"100%\" height=\"500\" allow=\"autoplay; camera; microphone; clipboard-read; clipboard-write;\" frameborder=\"0\" allowfullscreen></iframe></div>"
            ]
          },
          "metadata": {}
        },
        {
          "output_type": "execute_result",
          "data": {
            "text/plain": []
          },
          "metadata": {},
          "execution_count": 16
        }
      ]
    }
  ]
}