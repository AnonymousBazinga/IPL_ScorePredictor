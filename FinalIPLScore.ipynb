{
  "nbformat": 4,
  "nbformat_minor": 0,
  "metadata": {
    "colab": {
      "provenance": [],
      "authorship_tag": "ABX9TyMPZHSA6hSNi5a0JUep+4hg",
      "include_colab_link": true
    },
    "kernelspec": {
      "name": "python3",
      "display_name": "Python 3"
    },
    "language_info": {
      "name": "python"
    }
  },
  "cells": [
    {
      "cell_type": "markdown",
      "metadata": {
        "id": "view-in-github",
        "colab_type": "text"
      },
      "source": [
        "<a href=\"https://colab.research.google.com/github/AnonymousBazinga/IPL_ScorePredictor/blob/main/FinalIPLScore.ipynb\" target=\"_parent\"><img src=\"https://colab.research.google.com/assets/colab-badge.svg\" alt=\"Open In Colab\"/></a>"
      ]
    },
    {
      "cell_type": "code",
      "source": [
        "!pip install streamlit\n",
        "!pip install --upgrade gradio"
      ],
      "metadata": {
        "colab": {
          "base_uri": "https://localhost:8080/"
        },
        "id": "5FWZsr9_w4fl",
        "outputId": "f9ffebe8-0cbb-4a6b-9020-8ff8afb534bc"
      },
      "execution_count": 1,
      "outputs": [
        {
          "output_type": "stream",
          "name": "stdout",
          "text": [
            "Collecting streamlit\n",
            "  Downloading streamlit-1.28.1-py2.py3-none-any.whl (8.4 MB)\n",
            "\u001b[2K     \u001b[90m━━━━━━━━━━━━━━━━━━━━━━━━━━━━━━━━━━━━━━━━\u001b[0m \u001b[32m8.4/8.4 MB\u001b[0m \u001b[31m49.9 MB/s\u001b[0m eta \u001b[36m0:00:00\u001b[0m\n",
            "\u001b[?25hRequirement already satisfied: altair<6,>=4.0 in /usr/local/lib/python3.10/dist-packages (from streamlit) (4.2.2)\n",
            "Requirement already satisfied: blinker<2,>=1.0.0 in /usr/lib/python3/dist-packages (from streamlit) (1.4)\n",
            "Requirement already satisfied: cachetools<6,>=4.0 in /usr/local/lib/python3.10/dist-packages (from streamlit) (5.3.2)\n",
            "Requirement already satisfied: click<9,>=7.0 in /usr/local/lib/python3.10/dist-packages (from streamlit) (8.1.7)\n",
            "Requirement already satisfied: importlib-metadata<7,>=1.4 in /usr/local/lib/python3.10/dist-packages (from streamlit) (6.8.0)\n",
            "Requirement already satisfied: numpy<2,>=1.19.3 in /usr/local/lib/python3.10/dist-packages (from streamlit) (1.23.5)\n",
            "Requirement already satisfied: packaging<24,>=16.8 in /usr/local/lib/python3.10/dist-packages (from streamlit) (23.2)\n",
            "Requirement already satisfied: pandas<3,>=1.3.0 in /usr/local/lib/python3.10/dist-packages (from streamlit) (1.5.3)\n",
            "Requirement already satisfied: pillow<11,>=7.1.0 in /usr/local/lib/python3.10/dist-packages (from streamlit) (9.4.0)\n",
            "Requirement already satisfied: protobuf<5,>=3.20 in /usr/local/lib/python3.10/dist-packages (from streamlit) (3.20.3)\n",
            "Requirement already satisfied: pyarrow>=6.0 in /usr/local/lib/python3.10/dist-packages (from streamlit) (9.0.0)\n",
            "Requirement already satisfied: python-dateutil<3,>=2.7.3 in /usr/local/lib/python3.10/dist-packages (from streamlit) (2.8.2)\n",
            "Requirement already satisfied: requests<3,>=2.27 in /usr/local/lib/python3.10/dist-packages (from streamlit) (2.31.0)\n",
            "Requirement already satisfied: rich<14,>=10.14.0 in /usr/local/lib/python3.10/dist-packages (from streamlit) (13.6.0)\n",
            "Requirement already satisfied: tenacity<9,>=8.1.0 in /usr/local/lib/python3.10/dist-packages (from streamlit) (8.2.3)\n",
            "Requirement already satisfied: toml<2,>=0.10.1 in /usr/local/lib/python3.10/dist-packages (from streamlit) (0.10.2)\n",
            "Requirement already satisfied: typing-extensions<5,>=4.3.0 in /usr/local/lib/python3.10/dist-packages (from streamlit) (4.5.0)\n",
            "Requirement already satisfied: tzlocal<6,>=1.1 in /usr/local/lib/python3.10/dist-packages (from streamlit) (5.2)\n",
            "Collecting validators<1,>=0.2 (from streamlit)\n",
            "  Downloading validators-0.22.0-py3-none-any.whl (26 kB)\n",
            "Collecting gitpython!=3.1.19,<4,>=3.0.7 (from streamlit)\n",
            "  Downloading GitPython-3.1.40-py3-none-any.whl (190 kB)\n",
            "\u001b[2K     \u001b[90m━━━━━━━━━━━━━━━━━━━━━━━━━━━━━━━━━━━━━━━━\u001b[0m \u001b[32m190.6/190.6 kB\u001b[0m \u001b[31m28.0 MB/s\u001b[0m eta \u001b[36m0:00:00\u001b[0m\n",
            "\u001b[?25hCollecting pydeck<1,>=0.8.0b4 (from streamlit)\n",
            "  Downloading pydeck-0.8.1b0-py2.py3-none-any.whl (4.8 MB)\n",
            "\u001b[2K     \u001b[90m━━━━━━━━━━━━━━━━━━━━━━━━━━━━━━━━━━━━━━━━\u001b[0m \u001b[32m4.8/4.8 MB\u001b[0m \u001b[31m86.8 MB/s\u001b[0m eta \u001b[36m0:00:00\u001b[0m\n",
            "\u001b[?25hRequirement already satisfied: tornado<7,>=6.0.3 in /usr/local/lib/python3.10/dist-packages (from streamlit) (6.3.2)\n",
            "Collecting watchdog>=2.1.5 (from streamlit)\n",
            "  Downloading watchdog-3.0.0-py3-none-manylinux2014_x86_64.whl (82 kB)\n",
            "\u001b[2K     \u001b[90m━━━━━━━━━━━━━━━━━━━━━━━━━━━━━━━━━━━━━━━━\u001b[0m \u001b[32m82.1/82.1 kB\u001b[0m \u001b[31m7.8 MB/s\u001b[0m eta \u001b[36m0:00:00\u001b[0m\n",
            "\u001b[?25hRequirement already satisfied: entrypoints in /usr/local/lib/python3.10/dist-packages (from altair<6,>=4.0->streamlit) (0.4)\n",
            "Requirement already satisfied: jinja2 in /usr/local/lib/python3.10/dist-packages (from altair<6,>=4.0->streamlit) (3.1.2)\n",
            "Requirement already satisfied: jsonschema>=3.0 in /usr/local/lib/python3.10/dist-packages (from altair<6,>=4.0->streamlit) (4.19.2)\n",
            "Requirement already satisfied: toolz in /usr/local/lib/python3.10/dist-packages (from altair<6,>=4.0->streamlit) (0.12.0)\n",
            "Collecting gitdb<5,>=4.0.1 (from gitpython!=3.1.19,<4,>=3.0.7->streamlit)\n",
            "  Downloading gitdb-4.0.11-py3-none-any.whl (62 kB)\n",
            "\u001b[2K     \u001b[90m━━━━━━━━━━━━━━━━━━━━━━━━━━━━━━━━━━━━━━━━\u001b[0m \u001b[32m62.7/62.7 kB\u001b[0m \u001b[31m8.8 MB/s\u001b[0m eta \u001b[36m0:00:00\u001b[0m\n",
            "\u001b[?25hRequirement already satisfied: zipp>=0.5 in /usr/local/lib/python3.10/dist-packages (from importlib-metadata<7,>=1.4->streamlit) (3.17.0)\n",
            "Requirement already satisfied: pytz>=2020.1 in /usr/local/lib/python3.10/dist-packages (from pandas<3,>=1.3.0->streamlit) (2023.3.post1)\n",
            "Requirement already satisfied: six>=1.5 in /usr/local/lib/python3.10/dist-packages (from python-dateutil<3,>=2.7.3->streamlit) (1.16.0)\n",
            "Requirement already satisfied: charset-normalizer<4,>=2 in /usr/local/lib/python3.10/dist-packages (from requests<3,>=2.27->streamlit) (3.3.2)\n",
            "Requirement already satisfied: idna<4,>=2.5 in /usr/local/lib/python3.10/dist-packages (from requests<3,>=2.27->streamlit) (3.4)\n",
            "Requirement already satisfied: urllib3<3,>=1.21.1 in /usr/local/lib/python3.10/dist-packages (from requests<3,>=2.27->streamlit) (2.0.7)\n",
            "Requirement already satisfied: certifi>=2017.4.17 in /usr/local/lib/python3.10/dist-packages (from requests<3,>=2.27->streamlit) (2023.7.22)\n",
            "Requirement already satisfied: markdown-it-py>=2.2.0 in /usr/local/lib/python3.10/dist-packages (from rich<14,>=10.14.0->streamlit) (3.0.0)\n",
            "Requirement already satisfied: pygments<3.0.0,>=2.13.0 in /usr/local/lib/python3.10/dist-packages (from rich<14,>=10.14.0->streamlit) (2.16.1)\n",
            "Collecting smmap<6,>=3.0.1 (from gitdb<5,>=4.0.1->gitpython!=3.1.19,<4,>=3.0.7->streamlit)\n",
            "  Downloading smmap-5.0.1-py3-none-any.whl (24 kB)\n",
            "Requirement already satisfied: MarkupSafe>=2.0 in /usr/local/lib/python3.10/dist-packages (from jinja2->altair<6,>=4.0->streamlit) (2.1.3)\n",
            "Requirement already satisfied: attrs>=22.2.0 in /usr/local/lib/python3.10/dist-packages (from jsonschema>=3.0->altair<6,>=4.0->streamlit) (23.1.0)\n",
            "Requirement already satisfied: jsonschema-specifications>=2023.03.6 in /usr/local/lib/python3.10/dist-packages (from jsonschema>=3.0->altair<6,>=4.0->streamlit) (2023.7.1)\n",
            "Requirement already satisfied: referencing>=0.28.4 in /usr/local/lib/python3.10/dist-packages (from jsonschema>=3.0->altair<6,>=4.0->streamlit) (0.30.2)\n",
            "Requirement already satisfied: rpds-py>=0.7.1 in /usr/local/lib/python3.10/dist-packages (from jsonschema>=3.0->altair<6,>=4.0->streamlit) (0.12.0)\n",
            "Requirement already satisfied: mdurl~=0.1 in /usr/local/lib/python3.10/dist-packages (from markdown-it-py>=2.2.0->rich<14,>=10.14.0->streamlit) (0.1.2)\n",
            "Installing collected packages: watchdog, validators, smmap, pydeck, gitdb, gitpython, streamlit\n",
            "Successfully installed gitdb-4.0.11 gitpython-3.1.40 pydeck-0.8.1b0 smmap-5.0.1 streamlit-1.28.1 validators-0.22.0 watchdog-3.0.0\n",
            "Collecting gradio\n",
            "  Downloading gradio-4.2.0-py3-none-any.whl (15.4 MB)\n",
            "\u001b[2K     \u001b[90m━━━━━━━━━━━━━━━━━━━━━━━━━━━━━━━━━━━━━━━━\u001b[0m \u001b[32m15.4/15.4 MB\u001b[0m \u001b[31m84.5 MB/s\u001b[0m eta \u001b[36m0:00:00\u001b[0m\n",
            "\u001b[?25hCollecting aiofiles<24.0,>=22.0 (from gradio)\n",
            "  Downloading aiofiles-23.2.1-py3-none-any.whl (15 kB)\n",
            "Requirement already satisfied: altair<6.0,>=4.2.0 in /usr/local/lib/python3.10/dist-packages (from gradio) (4.2.2)\n",
            "Collecting fastapi (from gradio)\n",
            "  Downloading fastapi-0.104.1-py3-none-any.whl (92 kB)\n",
            "\u001b[2K     \u001b[90m━━━━━━━━━━━━━━━━━━━━━━━━━━━━━━━━━━━━━━━━\u001b[0m \u001b[32m92.9/92.9 kB\u001b[0m \u001b[31m12.3 MB/s\u001b[0m eta \u001b[36m0:00:00\u001b[0m\n",
            "\u001b[?25hCollecting ffmpy (from gradio)\n",
            "  Downloading ffmpy-0.3.1.tar.gz (5.5 kB)\n",
            "  Preparing metadata (setup.py) ... \u001b[?25l\u001b[?25hdone\n",
            "Collecting gradio-client==0.7.0 (from gradio)\n",
            "  Downloading gradio_client-0.7.0-py3-none-any.whl (302 kB)\n",
            "\u001b[2K     \u001b[90m━━━━━━━━━━━━━━━━━━━━━━━━━━━━━━━━━━━━━━━━\u001b[0m \u001b[32m302.7/302.7 kB\u001b[0m \u001b[31m27.9 MB/s\u001b[0m eta \u001b[36m0:00:00\u001b[0m\n",
            "\u001b[?25hCollecting httpx (from gradio)\n",
            "  Downloading httpx-0.25.1-py3-none-any.whl (75 kB)\n",
            "\u001b[2K     \u001b[90m━━━━━━━━━━━━━━━━━━━━━━━━━━━━━━━━━━━━━━━━\u001b[0m \u001b[32m75.0/75.0 kB\u001b[0m \u001b[31m11.2 MB/s\u001b[0m eta \u001b[36m0:00:00\u001b[0m\n",
            "\u001b[?25hCollecting huggingface-hub>=0.14.0 (from gradio)\n",
            "  Downloading huggingface_hub-0.19.1-py3-none-any.whl (311 kB)\n",
            "\u001b[2K     \u001b[90m━━━━━━━━━━━━━━━━━━━━━━━━━━━━━━━━━━━━━━━━\u001b[0m \u001b[32m311.1/311.1 kB\u001b[0m \u001b[31m38.5 MB/s\u001b[0m eta \u001b[36m0:00:00\u001b[0m\n",
            "\u001b[?25hRequirement already satisfied: importlib-resources<7.0,>=1.3 in /usr/local/lib/python3.10/dist-packages (from gradio) (6.1.1)\n",
            "Requirement already satisfied: jinja2<4.0 in /usr/local/lib/python3.10/dist-packages (from gradio) (3.1.2)\n",
            "Requirement already satisfied: markupsafe~=2.0 in /usr/local/lib/python3.10/dist-packages (from gradio) (2.1.3)\n",
            "Requirement already satisfied: matplotlib~=3.0 in /usr/local/lib/python3.10/dist-packages (from gradio) (3.7.1)\n",
            "Requirement already satisfied: numpy~=1.0 in /usr/local/lib/python3.10/dist-packages (from gradio) (1.23.5)\n",
            "Collecting orjson~=3.0 (from gradio)\n",
            "  Downloading orjson-3.9.10-cp310-cp310-manylinux_2_17_x86_64.manylinux2014_x86_64.whl (138 kB)\n",
            "\u001b[2K     \u001b[90m━━━━━━━━━━━━━━━━━━━━━━━━━━━━━━━━━━━━━━━━\u001b[0m \u001b[32m138.7/138.7 kB\u001b[0m \u001b[31m671.7 kB/s\u001b[0m eta \u001b[36m0:00:00\u001b[0m\n",
            "\u001b[?25hRequirement already satisfied: packaging in /usr/local/lib/python3.10/dist-packages (from gradio) (23.2)\n",
            "Requirement already satisfied: pandas<3.0,>=1.0 in /usr/local/lib/python3.10/dist-packages (from gradio) (1.5.3)\n",
            "Requirement already satisfied: pillow<11.0,>=8.0 in /usr/local/lib/python3.10/dist-packages (from gradio) (9.4.0)\n",
            "Collecting pydantic>=2.0 (from gradio)\n",
            "  Downloading pydantic-2.5.0-py3-none-any.whl (407 kB)\n",
            "\u001b[2K     \u001b[90m━━━━━━━━━━━━━━━━━━━━━━━━━━━━━━━━━━━━━━━━\u001b[0m \u001b[32m407.5/407.5 kB\u001b[0m \u001b[31m22.1 MB/s\u001b[0m eta \u001b[36m0:00:00\u001b[0m\n",
            "\u001b[?25hCollecting pydub (from gradio)\n",
            "  Downloading pydub-0.25.1-py2.py3-none-any.whl (32 kB)\n",
            "Collecting python-multipart (from gradio)\n",
            "  Downloading python_multipart-0.0.6-py3-none-any.whl (45 kB)\n",
            "\u001b[2K     \u001b[90m━━━━━━━━━━━━━━━━━━━━━━━━━━━━━━━━━━━━━━━━\u001b[0m \u001b[32m45.7/45.7 kB\u001b[0m \u001b[31m6.3 MB/s\u001b[0m eta \u001b[36m0:00:00\u001b[0m\n",
            "\u001b[?25hRequirement already satisfied: pyyaml<7.0,>=5.0 in /usr/local/lib/python3.10/dist-packages (from gradio) (6.0.1)\n",
            "Requirement already satisfied: requests~=2.0 in /usr/local/lib/python3.10/dist-packages (from gradio) (2.31.0)\n",
            "Collecting semantic-version~=2.0 (from gradio)\n",
            "  Downloading semantic_version-2.10.0-py2.py3-none-any.whl (15 kB)\n",
            "Collecting tomlkit==0.12.0 (from gradio)\n",
            "  Downloading tomlkit-0.12.0-py3-none-any.whl (37 kB)\n",
            "Requirement already satisfied: typer[all]<1.0,>=0.9 in /usr/local/lib/python3.10/dist-packages (from gradio) (0.9.0)\n",
            "Requirement already satisfied: typing-extensions~=4.0 in /usr/local/lib/python3.10/dist-packages (from gradio) (4.5.0)\n",
            "Collecting uvicorn>=0.14.0 (from gradio)\n",
            "  Downloading uvicorn-0.24.0.post1-py3-none-any.whl (59 kB)\n",
            "\u001b[2K     \u001b[90m━━━━━━━━━━━━━━━━━━━━━━━━━━━━━━━━━━━━━━━━\u001b[0m \u001b[32m59.7/59.7 kB\u001b[0m \u001b[31m8.4 MB/s\u001b[0m eta \u001b[36m0:00:00\u001b[0m\n",
            "\u001b[?25hCollecting websockets<12.0,>=10.0 (from gradio)\n",
            "  Downloading websockets-11.0.3-cp310-cp310-manylinux_2_5_x86_64.manylinux1_x86_64.manylinux_2_17_x86_64.manylinux2014_x86_64.whl (129 kB)\n",
            "\u001b[2K     \u001b[90m━━━━━━━━━━━━━━━━━━━━━━━━━━━━━━━━━━━━━━━━\u001b[0m \u001b[32m129.9/129.9 kB\u001b[0m \u001b[31m16.5 MB/s\u001b[0m eta \u001b[36m0:00:00\u001b[0m\n",
            "\u001b[?25hRequirement already satisfied: fsspec in /usr/local/lib/python3.10/dist-packages (from gradio-client==0.7.0->gradio) (2023.6.0)\n",
            "Requirement already satisfied: entrypoints in /usr/local/lib/python3.10/dist-packages (from altair<6.0,>=4.2.0->gradio) (0.4)\n",
            "Requirement already satisfied: jsonschema>=3.0 in /usr/local/lib/python3.10/dist-packages (from altair<6.0,>=4.2.0->gradio) (4.19.2)\n",
            "Requirement already satisfied: toolz in /usr/local/lib/python3.10/dist-packages (from altair<6.0,>=4.2.0->gradio) (0.12.0)\n",
            "Requirement already satisfied: filelock in /usr/local/lib/python3.10/dist-packages (from huggingface-hub>=0.14.0->gradio) (3.13.1)\n",
            "Requirement already satisfied: tqdm>=4.42.1 in /usr/local/lib/python3.10/dist-packages (from huggingface-hub>=0.14.0->gradio) (4.66.1)\n",
            "Requirement already satisfied: contourpy>=1.0.1 in /usr/local/lib/python3.10/dist-packages (from matplotlib~=3.0->gradio) (1.2.0)\n",
            "Requirement already satisfied: cycler>=0.10 in /usr/local/lib/python3.10/dist-packages (from matplotlib~=3.0->gradio) (0.12.1)\n",
            "Requirement already satisfied: fonttools>=4.22.0 in /usr/local/lib/python3.10/dist-packages (from matplotlib~=3.0->gradio) (4.44.0)\n",
            "Requirement already satisfied: kiwisolver>=1.0.1 in /usr/local/lib/python3.10/dist-packages (from matplotlib~=3.0->gradio) (1.4.5)\n",
            "Requirement already satisfied: pyparsing>=2.3.1 in /usr/local/lib/python3.10/dist-packages (from matplotlib~=3.0->gradio) (3.1.1)\n",
            "Requirement already satisfied: python-dateutil>=2.7 in /usr/local/lib/python3.10/dist-packages (from matplotlib~=3.0->gradio) (2.8.2)\n",
            "Requirement already satisfied: pytz>=2020.1 in /usr/local/lib/python3.10/dist-packages (from pandas<3.0,>=1.0->gradio) (2023.3.post1)\n",
            "Collecting annotated-types>=0.4.0 (from pydantic>=2.0->gradio)\n",
            "  Downloading annotated_types-0.6.0-py3-none-any.whl (12 kB)\n",
            "Collecting pydantic-core==2.14.1 (from pydantic>=2.0->gradio)\n",
            "  Downloading pydantic_core-2.14.1-cp310-cp310-manylinux_2_17_x86_64.manylinux2014_x86_64.whl (2.1 MB)\n",
            "\u001b[2K     \u001b[90m━━━━━━━━━━━━━━━━━━━━━━━━━━━━━━━━━━━━━━━━\u001b[0m \u001b[32m2.1/2.1 MB\u001b[0m \u001b[31m48.8 MB/s\u001b[0m eta \u001b[36m0:00:00\u001b[0m\n",
            "\u001b[?25hCollecting typing-extensions~=4.0 (from gradio)\n",
            "  Downloading typing_extensions-4.8.0-py3-none-any.whl (31 kB)\n",
            "Requirement already satisfied: charset-normalizer<4,>=2 in /usr/local/lib/python3.10/dist-packages (from requests~=2.0->gradio) (3.3.2)\n",
            "Requirement already satisfied: idna<4,>=2.5 in /usr/local/lib/python3.10/dist-packages (from requests~=2.0->gradio) (3.4)\n",
            "Requirement already satisfied: urllib3<3,>=1.21.1 in /usr/local/lib/python3.10/dist-packages (from requests~=2.0->gradio) (2.0.7)\n",
            "Requirement already satisfied: certifi>=2017.4.17 in /usr/local/lib/python3.10/dist-packages (from requests~=2.0->gradio) (2023.7.22)\n",
            "Requirement already satisfied: click<9.0.0,>=7.1.1 in /usr/local/lib/python3.10/dist-packages (from typer[all]<1.0,>=0.9->gradio) (8.1.7)\n",
            "Collecting colorama<0.5.0,>=0.4.3 (from typer[all]<1.0,>=0.9->gradio)\n",
            "  Downloading colorama-0.4.6-py2.py3-none-any.whl (25 kB)\n",
            "Collecting shellingham<2.0.0,>=1.3.0 (from typer[all]<1.0,>=0.9->gradio)\n",
            "  Downloading shellingham-1.5.4-py2.py3-none-any.whl (9.8 kB)\n",
            "Requirement already satisfied: rich<14.0.0,>=10.11.0 in /usr/local/lib/python3.10/dist-packages (from typer[all]<1.0,>=0.9->gradio) (13.6.0)\n",
            "Collecting h11>=0.8 (from uvicorn>=0.14.0->gradio)\n",
            "  Downloading h11-0.14.0-py3-none-any.whl (58 kB)\n",
            "\u001b[2K     \u001b[90m━━━━━━━━━━━━━━━━━━━━━━━━━━━━━━━━━━━━━━━━\u001b[0m \u001b[32m58.3/58.3 kB\u001b[0m \u001b[31m9.8 MB/s\u001b[0m eta \u001b[36m0:00:00\u001b[0m\n",
            "\u001b[?25hRequirement already satisfied: anyio<4.0.0,>=3.7.1 in /usr/local/lib/python3.10/dist-packages (from fastapi->gradio) (3.7.1)\n",
            "Collecting starlette<0.28.0,>=0.27.0 (from fastapi->gradio)\n",
            "  Downloading starlette-0.27.0-py3-none-any.whl (66 kB)\n",
            "\u001b[2K     \u001b[90m━━━━━━━━━━━━━━━━━━━━━━━━━━━━━━━━━━━━━━━━\u001b[0m \u001b[32m67.0/67.0 kB\u001b[0m \u001b[31m11.0 MB/s\u001b[0m eta \u001b[36m0:00:00\u001b[0m\n",
            "\u001b[?25hCollecting httpcore (from httpx->gradio)\n",
            "  Downloading httpcore-1.0.2-py3-none-any.whl (76 kB)\n",
            "\u001b[2K     \u001b[90m━━━━━━━━━━━━━━━━━━━━━━━━━━━━━━━━━━━━━━━━\u001b[0m \u001b[32m76.9/76.9 kB\u001b[0m \u001b[31m12.5 MB/s\u001b[0m eta \u001b[36m0:00:00\u001b[0m\n",
            "\u001b[?25hRequirement already satisfied: sniffio in /usr/local/lib/python3.10/dist-packages (from httpx->gradio) (1.3.0)\n",
            "Requirement already satisfied: exceptiongroup in /usr/local/lib/python3.10/dist-packages (from anyio<4.0.0,>=3.7.1->fastapi->gradio) (1.1.3)\n",
            "Requirement already satisfied: attrs>=22.2.0 in /usr/local/lib/python3.10/dist-packages (from jsonschema>=3.0->altair<6.0,>=4.2.0->gradio) (23.1.0)\n",
            "Requirement already satisfied: jsonschema-specifications>=2023.03.6 in /usr/local/lib/python3.10/dist-packages (from jsonschema>=3.0->altair<6.0,>=4.2.0->gradio) (2023.7.1)\n",
            "Requirement already satisfied: referencing>=0.28.4 in /usr/local/lib/python3.10/dist-packages (from jsonschema>=3.0->altair<6.0,>=4.2.0->gradio) (0.30.2)\n",
            "Requirement already satisfied: rpds-py>=0.7.1 in /usr/local/lib/python3.10/dist-packages (from jsonschema>=3.0->altair<6.0,>=4.2.0->gradio) (0.12.0)\n",
            "Requirement already satisfied: six>=1.5 in /usr/local/lib/python3.10/dist-packages (from python-dateutil>=2.7->matplotlib~=3.0->gradio) (1.16.0)\n",
            "Requirement already satisfied: markdown-it-py>=2.2.0 in /usr/local/lib/python3.10/dist-packages (from rich<14.0.0,>=10.11.0->typer[all]<1.0,>=0.9->gradio) (3.0.0)\n",
            "Requirement already satisfied: pygments<3.0.0,>=2.13.0 in /usr/local/lib/python3.10/dist-packages (from rich<14.0.0,>=10.11.0->typer[all]<1.0,>=0.9->gradio) (2.16.1)\n",
            "Requirement already satisfied: mdurl~=0.1 in /usr/local/lib/python3.10/dist-packages (from markdown-it-py>=2.2.0->rich<14.0.0,>=10.11.0->typer[all]<1.0,>=0.9->gradio) (0.1.2)\n",
            "Building wheels for collected packages: ffmpy\n",
            "  Building wheel for ffmpy (setup.py) ... \u001b[?25l\u001b[?25hdone\n",
            "  Created wheel for ffmpy: filename=ffmpy-0.3.1-py3-none-any.whl size=5579 sha256=75a7172b92d9e8c003064b5b508345faae445dd4fdcf3d0dd53c18f5fb7ab51b\n",
            "  Stored in directory: /root/.cache/pip/wheels/01/a6/d1/1c0828c304a4283b2c1639a09ad86f83d7c487ef34c6b4a1bf\n",
            "Successfully built ffmpy\n",
            "Installing collected packages: pydub, ffmpy, websockets, typing-extensions, tomlkit, shellingham, semantic-version, python-multipart, orjson, h11, colorama, annotated-types, aiofiles, uvicorn, starlette, pydantic-core, huggingface-hub, httpcore, pydantic, httpx, gradio-client, fastapi, gradio\n",
            "  Attempting uninstall: typing-extensions\n",
            "    Found existing installation: typing_extensions 4.5.0\n",
            "    Uninstalling typing_extensions-4.5.0:\n",
            "      Successfully uninstalled typing_extensions-4.5.0\n",
            "  Attempting uninstall: pydantic\n",
            "    Found existing installation: pydantic 1.10.13\n",
            "    Uninstalling pydantic-1.10.13:\n",
            "      Successfully uninstalled pydantic-1.10.13\n",
            "\u001b[31mERROR: pip's dependency resolver does not currently take into account all the packages that are installed. This behaviour is the source of the following dependency conflicts.\n",
            "lida 0.0.10 requires kaleido, which is not installed.\n",
            "llmx 0.0.15a0 requires cohere, which is not installed.\n",
            "llmx 0.0.15a0 requires openai, which is not installed.\n",
            "llmx 0.0.15a0 requires tiktoken, which is not installed.\n",
            "tensorflow-probability 0.22.0 requires typing-extensions<4.6.0, but you have typing-extensions 4.8.0 which is incompatible.\u001b[0m\u001b[31m\n",
            "\u001b[0mSuccessfully installed aiofiles-23.2.1 annotated-types-0.6.0 colorama-0.4.6 fastapi-0.104.1 ffmpy-0.3.1 gradio-4.2.0 gradio-client-0.7.0 h11-0.14.0 httpcore-1.0.2 httpx-0.25.1 huggingface-hub-0.19.1 orjson-3.9.10 pydantic-2.5.0 pydantic-core-2.14.1 pydub-0.25.1 python-multipart-0.0.6 semantic-version-2.10.0 shellingham-1.5.4 starlette-0.27.0 tomlkit-0.12.0 typing-extensions-4.8.0 uvicorn-0.24.0.post1 websockets-11.0.3\n"
          ]
        }
      ]
    },
    {
      "cell_type": "code",
      "execution_count": 2,
      "metadata": {
        "id": "YgeBuhr2uHkm"
      },
      "outputs": [],
      "source": [
        "import pandas as pd\n",
        "from sklearn.model_selection import train_test_split\n",
        "import tensorflow as tf\n",
        "from math import floor\n",
        "from bs4 import BeautifulSoup\n",
        "import requests\n",
        "import re\n",
        "import streamlit as st\n",
        "import gradio as gr"
      ]
    },
    {
      "cell_type": "code",
      "source": [
        "from google.colab import drive\n",
        "drive.mount('/content/drive')"
      ],
      "metadata": {
        "colab": {
          "base_uri": "https://localhost:8080/"
        },
        "id": "3Slw6Pm0xRGT",
        "outputId": "e1f4fae6-9d38-42f7-cf16-64d80ef506fe"
      },
      "execution_count": 3,
      "outputs": [
        {
          "output_type": "stream",
          "name": "stdout",
          "text": [
            "Mounted at /content/drive\n"
          ]
        }
      ]
    },
    {
      "cell_type": "code",
      "source": [
        "path = '/content/drive/MyDrive/EXTRAS/triale.csv'\n",
        "dataset = pd.read_csv(path)\n",
        "x = dataset.drop(columns = [\"Output\",\"MatchID\",\"StadiumID\"])\n",
        "y = dataset[\"Output\"]\n",
        "x_train, x_test, y_train, y_test = train_test_split(x,y,test_size=0.2)"
      ],
      "metadata": {
        "id": "3iRBhy38xYY6"
      },
      "execution_count": 7,
      "outputs": []
    },
    {
      "cell_type": "code",
      "source": [
        "model = tf.keras.models.Sequential()\n",
        "model.add(tf.keras.layers.Dense(256, input_shape = x_train.shape[1:], activation = 'sigmoid'))\n",
        "model.add(tf.keras.layers.Dense(64, activation = 'relu'))\n",
        "model.add(tf.keras.layers.Dense(256, activation = 'softmax'))\n"
      ],
      "metadata": {
        "id": "U25AJJAhxnWN"
      },
      "execution_count": 8,
      "outputs": []
    },
    {
      "cell_type": "code",
      "source": [
        "model.compile(optimizer='adam',loss='sparse_categorical_crossentropy', metrics = ['accuracy'])\n",
        "model.fit(x_train, y_train, epochs=50)"
      ],
      "metadata": {
        "colab": {
          "base_uri": "https://localhost:8080/"
        },
        "id": "TihjOMtNxucJ",
        "outputId": "c7290a2d-b8f7-48c3-c0dd-e8190031f935"
      },
      "execution_count": 9,
      "outputs": [
        {
          "output_type": "stream",
          "name": "stdout",
          "text": [
            "Epoch 1/50\n",
            "445/445 [==============================] - 2s 3ms/step - loss: 3.8823 - accuracy: 0.0439\n",
            "Epoch 2/50\n",
            "445/445 [==============================] - 1s 3ms/step - loss: 3.5949 - accuracy: 0.0682\n",
            "Epoch 3/50\n",
            "445/445 [==============================] - 2s 3ms/step - loss: 3.4614 - accuracy: 0.0789\n",
            "Epoch 4/50\n",
            "445/445 [==============================] - 1s 3ms/step - loss: 3.4095 - accuracy: 0.0868\n",
            "Epoch 5/50\n",
            "445/445 [==============================] - 1s 3ms/step - loss: 3.3461 - accuracy: 0.0930\n",
            "Epoch 6/50\n",
            "445/445 [==============================] - 1s 3ms/step - loss: 3.2557 - accuracy: 0.1014\n",
            "Epoch 7/50\n",
            "445/445 [==============================] - 1s 3ms/step - loss: 3.1580 - accuracy: 0.1082\n",
            "Epoch 8/50\n",
            "445/445 [==============================] - 1s 2ms/step - loss: 3.0843 - accuracy: 0.1146\n",
            "Epoch 9/50\n",
            "445/445 [==============================] - 1s 3ms/step - loss: 3.0185 - accuracy: 0.1213\n",
            "Epoch 10/50\n",
            "445/445 [==============================] - 2s 4ms/step - loss: 2.9785 - accuracy: 0.1291\n",
            "Epoch 11/50\n",
            "445/445 [==============================] - 2s 4ms/step - loss: 2.9341 - accuracy: 0.1313\n",
            "Epoch 12/50\n",
            "445/445 [==============================] - 1s 3ms/step - loss: 2.9007 - accuracy: 0.1408\n",
            "Epoch 13/50\n",
            "445/445 [==============================] - 1s 3ms/step - loss: 2.8670 - accuracy: 0.1427\n",
            "Epoch 14/50\n",
            "445/445 [==============================] - 2s 4ms/step - loss: 2.8346 - accuracy: 0.1498\n",
            "Epoch 15/50\n",
            "445/445 [==============================] - 2s 4ms/step - loss: 2.8071 - accuracy: 0.1547\n",
            "Epoch 16/50\n",
            "445/445 [==============================] - 1s 3ms/step - loss: 2.7804 - accuracy: 0.1609\n",
            "Epoch 17/50\n",
            "445/445 [==============================] - 3s 8ms/step - loss: 2.7536 - accuracy: 0.1624\n",
            "Epoch 18/50\n",
            "445/445 [==============================] - 1s 3ms/step - loss: 2.7311 - accuracy: 0.1687\n",
            "Epoch 19/50\n",
            "445/445 [==============================] - 1s 3ms/step - loss: 2.7054 - accuracy: 0.1723\n",
            "Epoch 20/50\n",
            "445/445 [==============================] - 1s 2ms/step - loss: 2.6867 - accuracy: 0.1737\n",
            "Epoch 21/50\n",
            "445/445 [==============================] - 1s 2ms/step - loss: 2.6635 - accuracy: 0.1784\n",
            "Epoch 22/50\n",
            "445/445 [==============================] - 1s 2ms/step - loss: 2.6467 - accuracy: 0.1900\n",
            "Epoch 23/50\n",
            "445/445 [==============================] - 1s 2ms/step - loss: 2.6307 - accuracy: 0.1862\n",
            "Epoch 24/50\n",
            "445/445 [==============================] - 1s 2ms/step - loss: 2.6203 - accuracy: 0.1900\n",
            "Epoch 25/50\n",
            "445/445 [==============================] - 1s 2ms/step - loss: 2.6094 - accuracy: 0.1938\n",
            "Epoch 26/50\n",
            "445/445 [==============================] - 1s 2ms/step - loss: 2.5864 - accuracy: 0.2033\n",
            "Epoch 27/50\n",
            "445/445 [==============================] - 1s 2ms/step - loss: 2.5766 - accuracy: 0.2004\n",
            "Epoch 28/50\n",
            "445/445 [==============================] - 1s 2ms/step - loss: 2.5658 - accuracy: 0.2029\n",
            "Epoch 29/50\n",
            "445/445 [==============================] - 1s 2ms/step - loss: 2.5533 - accuracy: 0.2094\n",
            "Epoch 30/50\n",
            "445/445 [==============================] - 2s 5ms/step - loss: 2.5475 - accuracy: 0.2065\n",
            "Epoch 31/50\n",
            "445/445 [==============================] - 2s 5ms/step - loss: 2.5377 - accuracy: 0.2079\n",
            "Epoch 32/50\n",
            "445/445 [==============================] - 2s 4ms/step - loss: 2.5313 - accuracy: 0.2113\n",
            "Epoch 33/50\n",
            "445/445 [==============================] - 2s 4ms/step - loss: 2.5203 - accuracy: 0.2152\n",
            "Epoch 34/50\n",
            "445/445 [==============================] - 1s 3ms/step - loss: 2.5136 - accuracy: 0.2126\n",
            "Epoch 35/50\n",
            "445/445 [==============================] - 1s 2ms/step - loss: 2.5085 - accuracy: 0.2151\n",
            "Epoch 36/50\n",
            "445/445 [==============================] - 1s 2ms/step - loss: 2.5017 - accuracy: 0.2154\n",
            "Epoch 37/50\n",
            "445/445 [==============================] - 1s 2ms/step - loss: 2.4846 - accuracy: 0.2187\n",
            "Epoch 38/50\n",
            "445/445 [==============================] - 1s 2ms/step - loss: 2.4766 - accuracy: 0.2246\n",
            "Epoch 39/50\n",
            "445/445 [==============================] - 1s 2ms/step - loss: 2.4720 - accuracy: 0.2243\n",
            "Epoch 40/50\n",
            "445/445 [==============================] - 1s 2ms/step - loss: 2.4672 - accuracy: 0.2266\n",
            "Epoch 41/50\n",
            "445/445 [==============================] - 1s 2ms/step - loss: 2.4657 - accuracy: 0.2244\n",
            "Epoch 42/50\n",
            "445/445 [==============================] - 1s 3ms/step - loss: 2.4575 - accuracy: 0.2248\n",
            "Epoch 43/50\n",
            "445/445 [==============================] - 1s 2ms/step - loss: 2.4442 - accuracy: 0.2307\n",
            "Epoch 44/50\n",
            "445/445 [==============================] - 1s 3ms/step - loss: 2.4471 - accuracy: 0.2270\n",
            "Epoch 45/50\n",
            "445/445 [==============================] - 2s 4ms/step - loss: 2.4362 - accuracy: 0.2337\n",
            "Epoch 46/50\n",
            "445/445 [==============================] - 2s 4ms/step - loss: 2.4304 - accuracy: 0.2315\n",
            "Epoch 47/50\n",
            "445/445 [==============================] - 1s 3ms/step - loss: 2.4243 - accuracy: 0.2347\n",
            "Epoch 48/50\n",
            "445/445 [==============================] - 2s 4ms/step - loss: 2.4183 - accuracy: 0.2369\n",
            "Epoch 49/50\n",
            "445/445 [==============================] - 1s 3ms/step - loss: 2.4095 - accuracy: 0.2384\n",
            "Epoch 50/50\n",
            "445/445 [==============================] - 1s 3ms/step - loss: 2.4148 - accuracy: 0.2354\n"
          ]
        },
        {
          "output_type": "execute_result",
          "data": {
            "text/plain": [
              "<keras.src.callbacks.History at 0x7c24683d7a00>"
            ]
          },
          "metadata": {},
          "execution_count": 9
        }
      ]
    },
    {
      "cell_type": "code",
      "source": [
        "model.evaluate(x_test,y_test)"
      ],
      "metadata": {
        "colab": {
          "base_uri": "https://localhost:8080/"
        },
        "id": "3IYbO4j_x0pQ",
        "outputId": "6f81a5ee-6302-4724-c43d-eced7d85b4c0"
      },
      "execution_count": 10,
      "outputs": [
        {
          "output_type": "stream",
          "name": "stdout",
          "text": [
            "112/112 [==============================] - 0s 2ms/step - loss: 2.4450 - accuracy: 0.2245\n"
          ]
        },
        {
          "output_type": "execute_result",
          "data": {
            "text/plain": [
              "[2.445012092590332, 0.22453573346138]"
            ]
          },
          "metadata": {},
          "execution_count": 10
        }
      ]
    },
    {
      "cell_type": "code",
      "source": [
        "def stadium_avg(stadium_name):\n",
        "  url = \"https://t20-head-to-head.com/statistics-by-ipl-venue/#\"\n",
        "  page = requests.get(url).text\n",
        "  doc = BeautifulSoup(page,\"html.parser\")\n",
        "\n",
        "  temp = 0\n",
        "  page_text2 = doc.find_all(\"figure\", attrs={'class':'wp-block-table'})\n",
        "  page_text = page_text2[::2]\n",
        "  for i in page_text:\n",
        "    if stadium_name in str(i):\n",
        "      temp = str(i.table.tbody).split('td')[9]\n",
        "\n",
        "  stadium_avg = int(temp[1:4])\n",
        "  return stadium_avg\n",
        "\n",
        "stadium_avg(\"Narendra Modi\")"
      ],
      "metadata": {
        "colab": {
          "base_uri": "https://localhost:8080/"
        },
        "id": "fHNuISgux2Oi",
        "outputId": "05d40b1d-9e62-4174-dd8b-0e651b3ef087"
      },
      "execution_count": 11,
      "outputs": [
        {
          "output_type": "execute_result",
          "data": {
            "text/plain": [
              "169"
            ]
          },
          "metadata": {},
          "execution_count": 11
        }
      ]
    },
    {
      "cell_type": "code",
      "source": [
        "def fn1(stadium_name, hometeam, runs, overs, wickets):\n",
        "  avg_score = stadium_avg(stadium_name)\n",
        "  arr = [[avg_score,hometeam, runs,overs,wickets]]\n",
        "  t1 = model.predict(arr)\n",
        "  a = list(t1[0])\n",
        "  print(a)\n",
        "  runrate = 0\n",
        "  for i in a:\n",
        "    runrate = runrate+(a.index(i)*i)\n",
        "  out2 = runrate*20\n",
        "  out = floor(out2)\n",
        "  return out//10"
      ],
      "metadata": {
        "id": "jNFng2EgyCaf"
      },
      "execution_count": 12,
      "outputs": []
    },
    {
      "cell_type": "code",
      "source": [
        "runs = int(st.number_input(\"How many runs scored so far?\", min_value=0, max_value=256))\n",
        "overs = float(st.select_slider(\"How many overs done so far?\", options=[str(i)+\".\"+str(j) for i in range(0,20,1) for j in range(0,6,1)]))\n",
        "wickets = int(st.select_slider(\"How many wickets lost far?\", options=[i for i in range(0,11,1)]))\n",
        "hometeam = st.radio(\"Does the batting team have home court advantage?\", (\"Yes\", \"No\"))\n",
        "stadium_name = str(st.text_input(\"Which stadium is the match being played in?\"))\n",
        "stadium_average = str(stadium_avg(stadium_name))\n",
        "if hometeam == \"Yes\":\n",
        "  hometeam = 1\n",
        "else:\n",
        "  hometeam = 0\n",
        "text = fn1(stadium_name, hometeam, runs, overs, wickets)\n",
        "st.write(\"The AI predicted score for this match is\", text)"
      ],
      "metadata": {
        "colab": {
          "base_uri": "https://localhost:8080/"
        },
        "id": "fSGAoWJuyLFL",
        "outputId": "1a2bcce5-4444-4199-94c2-5d307b7097ac"
      },
      "execution_count": 13,
      "outputs": [
        {
          "output_type": "stream",
          "name": "stderr",
          "text": [
            "2023-11-13 17:44:19.680 \n",
            "  \u001b[33m\u001b[1mWarning:\u001b[0m to view this Streamlit app on a browser, run it with the following\n",
            "  command:\n",
            "\n",
            "    streamlit run /usr/local/lib/python3.10/dist-packages/colab_kernel_launcher.py [ARGUMENTS]\n"
          ]
        },
        {
          "output_type": "stream",
          "name": "stdout",
          "text": [
            "1/1 [==============================] - 0s 285ms/step\n",
            "[7.2311636e-08, 3.482987e-08, 5.959214e-08, 4.4106702e-08, 9.138528e-08, 6.123843e-08, 4.6611337e-08, 4.435752e-08, 4.8441457e-08, 4.3186745e-08, 4.6855167e-08, 4.72743e-08, 3.8793623e-08, 5.9812194e-08, 4.9078658e-08, 5.083806e-08, 5.410347e-08, 5.8362662e-08, 4.9180326e-08, 5.4302486e-08, 6.0398875e-08, 5.3844303e-08, 5.4229464e-08, 7.03876e-08, 6.066946e-08, 6.2972944e-08, 5.046303e-08, 4.2490846e-08, 4.834837e-08, 4.6983498e-08, 4.646505e-08, 6.839346e-08, 5.261531e-08, 7.31334e-08, 3.632242e-08, 3.4698154e-08, 4.6073e-08, 5.5583126e-08, 5.686528e-08, 4.357202e-08, 5.5684467e-08, 7.44252e-08, 0.004844448, 5.3395233e-08, 3.8097347e-08, 4.7136318e-08, 9.2756515e-08, 5.6869293e-08, 6.371689e-08, 5.66114e-08, 4.627953e-08, 5.678762e-08, 4.482838e-08, 3.957004e-08, 4.8941523e-08, 4.896351e-08, 4.4266663e-08, 5.2618375e-08, 2.6124198e-05, 7.282348e-08, 3.6964748e-06, 0.0038987321, 0.0029934067, 4.0039954e-08, 0.014784458, 0.0001841787, 5.4034583e-08, 0.038751483, 0.0067985305, 0.0026874486, 0.026259974, 0.04346778, 0.0038852384, 0.014661765, 0.00054620043, 0.0004257614, 0.0003354924, 0.04214476, 0.031316537, 0.050807804, 0.0338931, 0.022405736, 0.018285925, 0.002514906, 0.063297674, 0.018090434, 0.028050488, 0.00034388655, 0.042545836, 0.012315445, 0.0631168, 0.031384047, 0.014118828, 0.009538509, 9.079263e-05, 0.057646703, 0.023369394, 0.00092233624, 0.032852042, 0.0005119054, 0.0024660921, 0.0020350292, 9.9249606e-05, 0.00013815859, 0.109121025, 0.024199018, 0.048485704, 1.4146527e-05, 3.686626e-05, 3.8756976e-08, 0.04061127, 0.00020006092, 0.008398696, 5.545907e-08, 4.1947743e-08, 4.8294726e-08, 6.577445e-05, 4.529257e-08, 5.1985563e-08, 5.384076e-08, 4.1039105e-08, 5.2865794e-08, 6.281184e-08, 4.4279584e-08, 4.495763e-08, 6.894724e-08, 5.2154206e-08, 5.1954537e-08, 5.832171e-08, 5.7953507e-08, 4.834537e-08, 4.771642e-08, 5.8464604e-08, 6.6652376e-08, 5.960726e-08, 4.287658e-08, 3.850362e-08, 6.75138e-08, 5.3385918e-08, 4.1481027e-08, 3.8634127e-08, 6.083145e-08, 4.3325063e-08, 4.446828e-08, 6.6641896e-08, 3.0647186e-08, 5.430932e-08, 6.124906e-08, 4.852135e-08, 4.5051067e-08, 5.5817015e-08, 5.5182568e-08, 7.383934e-08, 4.444793e-08, 4.9550028e-08, 4.7278625e-08, 3.9416108e-08, 4.997606e-08, 6.349669e-08, 4.225808e-08, 5.2696716e-08, 4.4245855e-08, 4.036365e-08, 5.2058297e-08, 6.257878e-08, 5.2767923e-08, 3.37517e-08, 4.858669e-08, 3.923908e-08, 5.379831e-08, 4.9038466e-08, 4.6771685e-08, 5.6407686e-08, 3.5563502e-08, 4.950162e-08, 4.532355e-08, 3.751192e-08, 5.1553616e-08, 4.8647703e-08, 6.23404e-08, 3.6440174e-08, 5.257032e-08, 3.710535e-08, 5.431124e-08, 4.7438192e-08, 4.6734677e-08, 5.684148e-08, 5.1684662e-08, 6.087178e-08, 4.5625953e-08, 4.7720242e-08, 5.5194246e-08, 4.524124e-08, 5.3581267e-08, 5.3304106e-08, 4.21435e-08, 4.7256673e-08, 4.133582e-08, 4.726325e-08, 5.176413e-08, 3.0791323e-08, 3.851185e-08, 4.7925884e-08, 4.8668863e-08, 4.9697782e-08, 5.5710125e-08, 5.708213e-08, 4.8136457e-08, 5.310227e-08, 5.6884748e-08, 4.5327006e-08, 4.3587395e-08, 5.051773e-08, 6.827101e-08, 4.0118078e-08, 4.2893635e-08, 5.0903896e-08, 5.0254457e-08, 5.1607085e-08, 5.0684893e-08, 9.062882e-08, 5.124666e-08, 5.349156e-08, 4.330065e-08, 6.549181e-08, 4.7023796e-08, 3.8871875e-08, 3.650428e-08, 5.7123515e-08, 3.832342e-08, 5.3827463e-08, 4.8846864e-08, 5.135395e-08, 3.1807e-08, 4.0293e-08, 4.010775e-08, 3.939649e-08, 5.806803e-08, 4.9370882e-08, 7.0714194e-08, 5.1246854e-08, 5.931624e-08, 5.6846137e-08, 4.012282e-08, 5.8731338e-08, 6.82606e-08, 5.343033e-08, 4.6268852e-08, 5.322096e-08, 4.297405e-08, 3.9457554e-08, 4.003014e-08, 7.199607e-08, 3.2503177e-08, 4.123778e-08, 4.6466468e-08]\n"
          ]
        }
      ]
    },
    {
      "cell_type": "code",
      "source": [
        "hometeam = gr.Radio([0,1], label=\"Does the batting team have home court advantage? (0=no,1=yes)\")\n",
        "runs = gr.Number(label=\"How many runs scored? (e.g. 60, 204)\")\n",
        "overs = gr.Number(label=\"How many overs finished? (e.g. 10.2, 3, 12.4)\")\n",
        "wickets = gr.Slider(minimum=0,maximum=10,step=1,label=\"How many wickets are lost?\")\n",
        "out = gr.Number(label=\"The AI predicted score for this innings is: \")\n",
        "demo = gr.Interface(fn1,inputs = ['text',hometeam,runs,overs,wickets],outputs=out,theme='glass')\n",
        "demo.launch(share=True)"
      ],
      "metadata": {
        "colab": {
          "base_uri": "https://localhost:8080/",
          "height": 612
        },
        "id": "mvLDV78gySGe",
        "outputId": "a470e97e-afeb-42a5-a98e-a69577102fce"
      },
      "execution_count": 16,
      "outputs": [
        {
          "output_type": "stream",
          "name": "stdout",
          "text": [
            "Colab notebook detected. To show errors in colab notebook, set debug=True in launch()\n",
            "Running on public URL: https://7c8cd01ed289f7c200.gradio.live\n",
            "\n",
            "This share link expires in 72 hours. For free permanent hosting and GPU upgrades, run `gradio deploy` from Terminal to deploy to Spaces (https://huggingface.co/spaces)\n"
          ]
        },
        {
          "output_type": "display_data",
          "data": {
            "text/plain": [
              "<IPython.core.display.HTML object>"
            ],
            "text/html": [
              "<div><iframe src=\"https://7c8cd01ed289f7c200.gradio.live\" width=\"100%\" height=\"500\" allow=\"autoplay; camera; microphone; clipboard-read; clipboard-write;\" frameborder=\"0\" allowfullscreen></iframe></div>"
            ]
          },
          "metadata": {}
        },
        {
          "output_type": "execute_result",
          "data": {
            "text/plain": []
          },
          "metadata": {},
          "execution_count": 16
        }
      ]
    }
  ]
}